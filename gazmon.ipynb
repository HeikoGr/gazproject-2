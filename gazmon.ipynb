{
 "cells": [
  {
   "cell_type": "code",
   "execution_count": null,
   "metadata": {},
   "outputs": [],
   "source": [
    "%matplotlib notebook\n",
    "%precision 3\n",
    "\n",
    "from pandas.plotting import register_matplotlib_converters\n",
    "register_matplotlib_converters()\n",
    "\n",
    "import matplotlib\n",
    "import matplotlib.pyplot as plt\n",
    "plt.rcParams['figure.figsize'] = [9.5, 7]\n",
    "import datetime\n",
    "import pandas\n",
    "\n"
   ]
  },
  {
   "cell_type": "code",
   "execution_count": null,
   "metadata": {},
   "outputs": [],
   "source": [
    "prefix=\"/home/ahu/git/gazproject/\""
   ]
  },
  {
   "cell_type": "code",
   "execution_count": null,
   "metadata": {},
   "outputs": [],
   "source": [
    "def cleanUp(v):\n",
    "    v[\"timestamp\"]=pandas.to_datetime(v[\"periodTo\"])\n",
    "    v[\"timestamp\"]=v[\"timestamp\"].dt.strftime(\"%Y-%m-%d 06:00:00\")\n",
    "    v[\"timestamp\"]=pandas.to_datetime(v[\"timestamp\"])\n",
    "    v.sort_values([\"timestamp\"], inplace=True)\n",
    "    v.set_index(\"timestamp\", inplace=True)\n",
    "    \n",
    "uzhgorod = pandas.read_json(prefix+\"uzhgorod-data.json\")\n",
    "nordstreamF = pandas.read_json(prefix+\"nordstream-fluxsys-data.json\")\n",
    "nordstreamO = pandas.read_json(prefix+\"nordstream-opal-data.json\")\n",
    "yamalK = pandas.read_json(prefix+\"yamal-kondratki-data.json\")\n",
    "yamalW = pandas.read_json(prefix+\"yamal-wysokoje-data.json\")\n",
    "hermanowice = pandas.read_json(prefix+\"hermanowice-data.json\")\n",
    "\n",
    "cleanUp(uzhgorod)\n",
    "cleanUp(nordstreamF)\n",
    "cleanUp(nordstreamO)\n",
    "cleanUp(yamalK)\n",
    "cleanUp(yamalW)\n",
    "cleanUp(hermanowice)\n",
    "begindate=max([uzhgorod.index.min(), nordstreamF.index.min(), nordstreamO.index.min(), yamalW.index.min(), yamalK.index.min(), hermanowice.index.min()])\n",
    "\n",
    "enddate=min([uzhgorod.index.max(), nordstreamF.index.max(), nordstreamO.index.max(), yamalW.index.max(), yamalK.index.max(), hermanowice.index.max()])\n",
    "enddate"
   ]
  },
  {
   "cell_type": "code",
   "execution_count": null,
   "metadata": {
    "scrolled": false
   },
   "outputs": [],
   "source": [
    "plt.figure()\n",
    "plt.plot(uzhgorod.value/24/1000000, label=\"Uzhgorod\")\n",
    "plt.plot(nordstreamF.value/24/1000000, label=\"Nordstream Greifswald Fluxsys\")\n",
    "plt.plot(nordstreamO.value/24/1000000, label=\"Nordstream Greifswald Opal\")\n",
    "plt.plot(yamalK.value/24/1000000, label=\"Yamal Kondratki\")\n",
    "plt.plot(yamalW.value/24/1000000, label=\"Yamal Wysokoje\")\n",
    "plt.plot(hermanowice.value/24/1000000, label=\"Hermanowice\")\n",
    "plt.xlim(begindate, enddate)\n",
    "plt.plot((uzhgorod.value+yamalK.value+yamalW.value+nordstreamF.value+nordstreamO.value+hermanowice.value)/24000000, label=\"Sum\")\n",
    "\n",
    "plt.ylabel(\"GW\")\n",
    "plt.legend()\n",
    "plt.title(\"Russian natural gas flow to Europe\")\n",
    "plt.xticks(rotation=25)\n",
    "\n",
    "plt.grid()"
   ]
  },
  {
   "cell_type": "code",
   "execution_count": null,
   "metadata": {},
   "outputs": [],
   "source": [
    "def makeGraph(fname, limit=-1):\n",
    "    global yamalK, yamalW, uzhgorod, nordstreamF, nodstreamO, hermanowice\n",
    "    plt.figure()\n",
    "    yamalK=yamalK[begindate:enddate]\n",
    "    yamalW=yamalW[begindate:enddate]\n",
    "\n",
    "    pal = [\"#FFD700\", \"#0057B8\", \"#44344f\", \"#98a6d4\", \"#5b9279\", \"#c2f970\"]\n",
    "    labels=[\"Uzhgorod (Ukraine)\", \"Nordstream Fluxsys\", \"Nordstream OPAL\", \"Yamal Kondratki\", \"Yamal Wysokoje\", \"Hermanowice\"]\n",
    "    locbegindate = begindate\n",
    "    if limit >= 0:\n",
    "        locbegindate = enddate - datetime.timedelta(days=7)\n",
    "    \n",
    "    plt.xlim(locbegindate, enddate)\n",
    "    plt.stackplot(uzhgorod.index,\n",
    "              uzhgorod.value/24000000, nordstreamF.value/24000000, nordstreamO.value/24000000,\n",
    "              yamalK.value/24000000,\n",
    "              yamalW.value/24000000, hermanowice.value/24000000,\n",
    "            colors=pal, labels=labels)\n",
    "    plt.ylabel(\"Gigawatt\")\n",
    "    plt.title(\"Russian natural gas flow to Europe, last data point: \"+enddate.strftime(\"%Y-%m-%d %H:%M\"))\n",
    "    plt.xticks(rotation=25)\n",
    "    if(limit < 0):\n",
    "        labels = labels + list([\"Start of invasion\"])\n",
    "        plt.axvline(datetime.date(2022, 2, 24), ls=':', color='red', label=\"Start of invasion\")\n",
    "    plt.legend(reversed(plt.legend().legendHandles), reversed(labels), loc=2)\n",
    "\n",
    "    plt.grid()\n",
    "    plt.savefig(fname)\n",
    "    \n",
    "makeGraph(prefix+\"/russian-gas.png\")\n",
    "makeGraph(prefix+\"/russian-gas-week.png\", 7)"
   ]
  },
  {
   "cell_type": "code",
   "execution_count": null,
   "metadata": {},
   "outputs": [],
   "source": []
  }
 ],
 "metadata": {
  "kernelspec": {
   "display_name": "Python 3 (ipykernel)",
   "language": "python",
   "name": "python3"
  },
  "language_info": {
   "codemirror_mode": {
    "name": "ipython",
    "version": 3
   },
   "file_extension": ".py",
   "mimetype": "text/x-python",
   "name": "python",
   "nbconvert_exporter": "python",
   "pygments_lexer": "ipython3",
   "version": "3.9.7"
  }
 },
 "nbformat": 4,
 "nbformat_minor": 4
}
